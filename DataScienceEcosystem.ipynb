{
 "cells": [
  {
   "cell_type": "markdown",
   "id": "7cd733c4-69f5-459f-a967-1c1586fcc868",
   "metadata": {},
   "source": [
    " # Data Science Tools and Ecosystem"
   ]
  },
  {
   "cell_type": "markdown",
   "id": "fdc3cc3d-c2ab-4e1d-8f97-8f82c8e1b34b",
   "metadata": {},
   "source": [
    "In this notebook, Data Science Tools and Ecosystem are summarized.\n"
   ]
  },
  {
   "cell_type": "markdown",
   "id": "f893e47d-56b9-4923-859c-1c09cb0b989f",
   "metadata": {},
   "source": [
    "**Objectives:**\n",
    "\n",
    "- List popular languages for Data Science.\n",
    "- List common libraries used in Data Science.\n",
    "- Identify development environment tools used in Data Science.\n",
    "- Understand basic arithmetic operations in Python.\n",
    "- Convert time units (e.g., minutes to hours) using simple Python expressions.\n"
   ]
  },
  {
   "cell_type": "markdown",
   "id": "7dba779c-dc5c-4e26-8cfb-639d016ac9d3",
   "metadata": {},
   "source": [
    "Some of the popular languages that Data Scientists use are:\n",
    "\n",
    "1. Python\n",
    "2. R\n",
    "3. SQL\n",
    "4. Julia\n"
   ]
  },
  {
   "cell_type": "markdown",
   "id": "9c0230a8-3d63-4063-b79d-ee2816fa87fd",
   "metadata": {},
   "source": [
    "Some of the commonly used libraries used by Data Scientists include:\n",
    "\n",
    "1. Pandas\n",
    "2. NumPy\n",
    "3. Matplotlib\n",
    "4. Scikit-learn\n"
   ]
  },
  {
   "cell_type": "markdown",
   "id": "c53f2144-bde4-46d4-b304-2829056e1885",
   "metadata": {},
   "source": [
    "| Data Science Tools |\n",
    "|--------------------|\n",
    "| Jupyter Notebook   |\n",
    "| RStudio            |\n",
    "| Apache Zeppelin    |\n"
   ]
  },
  {
   "cell_type": "markdown",
   "id": "88b324ab-8250-4748-b8ac-6095f18e2fc8",
   "metadata": {},
   "source": [
    "### Below are a few examples of evaluating arithmetic expressions in Python.\n",
    "\n",
    "1. Addition: `5 + 3 = 8`\n",
    "2. Subtraction: `10 - 4 = 6`\n",
    "3. Multiplication: `7 * 6 = 42`\n",
    "4. Division: `20 / 4 = 5`\n",
    "5. Exponentiation: `2 ** 3 = 8`\n",
    "6. Modulo (remainder): `10 % 3 = 1`\n"
   ]
  },
  {
   "cell_type": "code",
   "execution_count": 3,
   "id": "c0bf2709-cf2f-4ef5-aa98-e26e074a7383",
   "metadata": {},
   "outputs": [
    {
     "data": {
      "text/plain": [
       "17"
      ]
     },
     "execution_count": 3,
     "metadata": {},
     "output_type": "execute_result"
    }
   ],
   "source": [
    "# This is a simple arithmetic expression to multiply then add integers\n",
    "result = (3 * 4) + 5\n",
    "result\n"
   ]
  },
  {
   "cell_type": "code",
   "execution_count": 4,
   "id": "20879f2a-2f5c-45a5-9f52-7e0dd0173f9f",
   "metadata": {},
   "outputs": [
    {
     "data": {
      "text/plain": [
       "3.3333333333333335"
      ]
     },
     "execution_count": 4,
     "metadata": {},
     "output_type": "execute_result"
    }
   ],
   "source": [
    "# This will convert 200 minutes to hours by dividing by 60\n",
    "minutes = 200\n",
    "hours = minutes / 60\n",
    "hours\n"
   ]
  },
  {
   "cell_type": "markdown",
   "id": "e465e4bb-5334-4c44-bf75-9c5def7de87b",
   "metadata": {},
   "source": [
    "## Author\n",
    "\n",
    "Vidya Bhat\n"
   ]
  },
  {
   "cell_type": "code",
   "execution_count": null,
   "id": "b5bba554-0ee0-43bb-ae3b-8c29012b57c7",
   "metadata": {},
   "outputs": [],
   "source": []
  }
 ],
 "metadata": {
  "kernelspec": {
   "display_name": "Python 3 (ipykernel)",
   "language": "python",
   "name": "python3"
  },
  "language_info": {
   "codemirror_mode": {
    "name": "ipython",
    "version": 3
   },
   "file_extension": ".py",
   "mimetype": "text/x-python",
   "name": "python",
   "nbconvert_exporter": "python",
   "pygments_lexer": "ipython3",
   "version": "3.11.9"
  }
 },
 "nbformat": 4,
 "nbformat_minor": 5
}
